{
 "cells": [
  {
   "cell_type": "code",
   "execution_count": null,
   "metadata": {},
   "outputs": [],
   "source": [
    "\"\"\" \n",
    "\n",
    "\n",
    "Function to calculate sliding window correlation for an [m,2] numpy array.\n",
    "\n",
    "\n",
    "PARAMETERS:\n",
    "\n",
    "arr = The input array for the sliding window correlation calcualtion, note, len([m,0]) and len([m,1]) must be equal \n",
    "\n",
    "itLen = The number of elements for each sliding window\n",
    "\n",
    "overlap = The jump between each iteration of the sliding window. Default is 1 element.\n",
    "\n",
    "corr = The correlation coefficient to be calculated. This can either be parametric (pearson), or non-parametric (spearman). Default is pearson.\n",
    "\n",
    "\n",
    "\"\"\"\n",
    "\n",
    "def swCorr(arr, itLen, overlap = 1, corr = \"pearson\"):\n",
    "    \n",
    "    import numpy as np\n",
    "    from scipy import stats\n",
    "    \n",
    "    winLen = itLen\n",
    "    overlap = np.arange(overlap)\n",
    "    output = np.array([])\n",
    "    \n",
    "    while winLen == itLen:\n",
    "        iterr = arr[0:itLen]\n",
    "        arr = np.delete(arr,overlap,0)\n",
    "        if corr == \"pearson\":\n",
    "            coeff = stats.pearsonr(iterr[:,0], iterr[:,1])\n",
    "        if corr == \"spearman\":\n",
    "            coeff = stats.spearmanr(iterr[:,0], iterr[:,1])\n",
    "        output = np.append(output, coeff[0])\n",
    "        winLen = len(arr[0:itLen])\n",
    "    \n",
    "    return output"
   ]
  }
 ],
 "metadata": {
  "kernelspec": {
   "display_name": "Python 3",
   "language": "python",
   "name": "python3"
  },
  "language_info": {
   "codemirror_mode": {
    "name": "ipython",
    "version": 3
   },
   "file_extension": ".py",
   "mimetype": "text/x-python",
   "name": "python",
   "nbconvert_exporter": "python",
   "pygments_lexer": "ipython3",
   "version": "3.6.5"
  }
 },
 "nbformat": 4,
 "nbformat_minor": 2
}
