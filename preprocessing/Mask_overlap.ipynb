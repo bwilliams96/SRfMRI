{
 "cells": [
  {
   "cell_type": "code",
   "execution_count": 1,
   "metadata": {},
   "outputs": [],
   "source": [
    "def mask_overlap(mask1, mask2):\n",
    "    import numpy as np\n",
    "    import nibabel as nib\n",
    "    \n",
    "    #load masks\n",
    "    m1 = nib.load(mask1)\n",
    "    m1 = np.array(m1.dataobj)\n",
    "    m2 = nib.load(mask2)\n",
    "    m2 = np.array(m2.dataobj)\n",
    "    \n",
    "    #create hadamard product of arrays and calculate overlap\n",
    "    hp = np.multiply(m1,m2)\n",
    "    overlap = (np.sum(hp)/((np.sum(m1)+np.sum(m2))/2))*100\n",
    "    \n",
    "    print(\"The overlap between \" + mask1 + \" and \" + mask2 + \" is \" + str(round(overlap,3)) + \"%\")"
   ]
  },
  {
   "cell_type": "code",
   "execution_count": 2,
   "metadata": {},
   "outputs": [
    {
     "name": "stdout",
     "output_type": "stream",
     "text": [
      "\n",
      "sub-001\n",
      "\n"
     ]
    },
    {
     "name": "stderr",
     "output_type": "stream",
     "text": [
      "/anaconda3/lib/python3.6/site-packages/h5py/__init__.py:36: FutureWarning: Conversion of the second argument of issubdtype from `float` to `np.floating` is deprecated. In future, it will be treated as `np.float64 == np.dtype(float).type`.\n",
      "  from ._conv import register_converters as _register_converters\n"
     ]
    },
    {
     "name": "stdout",
     "output_type": "stream",
     "text": [
      "The overlap between Left-CMPf_func_binary0.4.nii.gz and Left-MD_func_binary0.4.nii.gz is 2.532%\n",
      "The overlap between Right-CMPf_func_binary0.4.nii.gz and Right-MD_func_binary0.4.nii.gz is 0.803%\n",
      "The overlap between Left-mOFC_func_binary0.4.nii.gz and Left-lOFC_func_binary0.4.nii.gz is 0.429%\n",
      "The overlap between Right-mOFC_func_binary0.4.nii.gz and Right-lOFC_func_binary0.4.nii.gz is 0.776%\n",
      "\n",
      "sub-002\n",
      "\n",
      "The overlap between Left-CMPf_func_binary0.4.nii.gz and Left-MD_func_binary0.4.nii.gz is 0.0%\n",
      "The overlap between Right-CMPf_func_binary0.4.nii.gz and Right-MD_func_binary0.4.nii.gz is 1.619%\n",
      "The overlap between Left-mOFC_func_binary0.4.nii.gz and Left-lOFC_func_binary0.4.nii.gz is 0.151%\n",
      "The overlap between Right-mOFC_func_binary0.4.nii.gz and Right-lOFC_func_binary0.4.nii.gz is 0.233%\n",
      "\n",
      "sub-003\n",
      "\n",
      "The overlap between Left-CMPf_func_binary0.4.nii.gz and Left-MD_func_binary0.4.nii.gz is 0.851%\n",
      "The overlap between Right-CMPf_func_binary0.4.nii.gz and Right-MD_func_binary0.4.nii.gz is 1.66%\n",
      "The overlap between Left-mOFC_func_binary0.4.nii.gz and Left-lOFC_func_binary0.4.nii.gz is 0.625%\n",
      "The overlap between Right-mOFC_func_binary0.4.nii.gz and Right-lOFC_func_binary0.4.nii.gz is 0.514%\n",
      "\n",
      "sub-004\n",
      "\n",
      "The overlap between Left-CMPf_func_binary0.4.nii.gz and Left-MD_func_binary0.4.nii.gz is 4.016%\n",
      "The overlap between Right-CMPf_func_binary0.4.nii.gz and Right-MD_func_binary0.4.nii.gz is 0.0%\n",
      "The overlap between Left-mOFC_func_binary0.4.nii.gz and Left-lOFC_func_binary0.4.nii.gz is 0.53%\n",
      "The overlap between Right-mOFC_func_binary0.4.nii.gz and Right-lOFC_func_binary0.4.nii.gz is 0.176%\n",
      "\n",
      "sub-005\n",
      "\n",
      "The overlap between Left-CMPf_func_binary0.4.nii.gz and Left-MD_func_binary0.4.nii.gz is 5.155%\n",
      "The overlap between Right-CMPf_func_binary0.4.nii.gz and Right-MD_func_binary0.4.nii.gz is 0.917%\n",
      "The overlap between Left-mOFC_func_binary0.4.nii.gz and Left-lOFC_func_binary0.4.nii.gz is 0.622%\n",
      "The overlap between Right-mOFC_func_binary0.4.nii.gz and Right-lOFC_func_binary0.4.nii.gz is 0.186%\n",
      "\n",
      "sub-00006\n",
      "\n",
      "The overlap between Left-CMPf_func_binary0.4.nii.gz and Left-MD_func_binary0.4.nii.gz is 3.306%\n",
      "The overlap between Right-CMPf_func_binary0.4.nii.gz and Right-MD_func_binary0.4.nii.gz is 2.521%\n",
      "The overlap between Left-mOFC_func_binary0.4.nii.gz and Left-lOFC_func_binary0.4.nii.gz is 0.301%\n",
      "The overlap between Right-mOFC_func_binary0.4.nii.gz and Right-lOFC_func_binary0.4.nii.gz is 0.375%\n"
     ]
    }
   ],
   "source": [
    "import os\n",
    "\n",
    "subjects = [\"sub-001\", \"sub-002\", \"sub-003\", \"sub-004\", \"sub-005\", \"sub-00006\"]\n",
    "\n",
    "for i in subjects:\n",
    "    \n",
    "    print(f\"\\n{i}\\n\")\n",
    "\n",
    "    os.chdir(f\"/Volumes/cinn/2019/SRfMRI/masks/{i}/Analysis\")\n",
    "\n",
    "    mask_overlap(\"Left-CMPf_func_binary0.4.nii.gz\", \"Left-MD_func_binary0.4.nii.gz\")\n",
    "    mask_overlap(\"Right-CMPf_func_binary0.4.nii.gz\", \"Right-MD_func_binary0.4.nii.gz\")\n",
    "    mask_overlap(\"Left-mOFC_func_binary0.4.nii.gz\", \"Left-lOFC_func_binary0.4.nii.gz\")\n",
    "    mask_overlap(\"Right-mOFC_func_binary0.4.nii.gz\", \"Right-lOFC_func_binary0.4.nii.gz\")\n",
    "\n"
   ]
  },
  {
   "cell_type": "code",
   "execution_count": null,
   "metadata": {},
   "outputs": [],
   "source": []
  }
 ],
 "metadata": {
  "kernelspec": {
   "display_name": "Python 3",
   "language": "python",
   "name": "python3"
  },
  "language_info": {
   "codemirror_mode": {
    "name": "ipython",
    "version": 3
   },
   "file_extension": ".py",
   "mimetype": "text/x-python",
   "name": "python",
   "nbconvert_exporter": "python",
   "pygments_lexer": "ipython3",
   "version": "3.6.5"
  }
 },
 "nbformat": 4,
 "nbformat_minor": 2
}
